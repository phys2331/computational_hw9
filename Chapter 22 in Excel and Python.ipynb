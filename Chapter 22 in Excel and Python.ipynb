{
 "cells": [
  {
   "cell_type": "markdown",
   "metadata": {},
   "source": [
    "## <center> Computation Two Ways: Faraday's Law\n",
    "---------\n",
    "\n",
    "In this worksheet, we will explore solving problems 22.20 and 22.23 in homework 9 using Excel and Python. These tools are highly useful in real-world problem solving, especially as the studied material increases in complexity. \n",
    "\n",
    "### <center> Problem 22.33\n",
    "\n",
    "![](20.33.png \"Homework Problem 22.33\")\n",
    "    \n",
    "#### <center> Solve on Paper\n",
    "    \n",
    "Using computers to verify handwritten mathematics is a great way to help reduce human error and test understanding of the problem. Try this problem without the help of the computer initially. Then, continue to the following sections to verify your work using Excel and Python. Below is a sample way of solving problem 22.23 by hand.\n",
    "\n",
    "* Known Variables\n",
    "<br><br><br><br><br><br><br><br><br>\n",
    "\n",
    "#### <center> Solve using Excel\n",
    "    \n",
    "Watch the following video to see a way to solve the problem in Excel. Note that there are various styles and ways of using Excel to solve problems. Explore what works for you!\n",
    "\n",
    "Click here to access the spreadsheet used to solve this problem. Change the numbers and see how the output changes.\n",
    "    \n",
    "#### <center> Solve using Python\n",
    "    \n",
    "The following code is a sample way to solve problem 22.33. Run the cell using the **Run** button above to see the output. Does this match with your handwritten answer?\n",
    "    \n"
   ]
  },
  {
   "cell_type": "code",
   "execution_count": 1,
   "metadata": {},
   "outputs": [
    {
     "name": "stdout",
     "output_type": "stream",
     "text": [
      "The maximum voltage of the second coil voltage = 0.2208639100491116 V\n"
     ]
    }
   ],
   "source": [
    "import scipy.constants as sp\n",
    "import math\n",
    "\n",
    "# List the known variables here. Note, all cm have been converted to m.\n",
    "\n",
    "n1_turns = 5300\n",
    "n2_turns = 3200\n",
    "radius_c1 = 0.04\n",
    "radius_c2 = 0.02\n",
    "distance_l = 0.4\n",
    "amps = 0.05\n",
    "freq = 2100\n",
    "\n",
    "# Pre-Calculations\n",
    "\n",
    "mu0_4pi = sp.mu_0/(4*sp.pi)\n",
    "area_c1 = math.pow(radius_c1,2) * sp.pi\n",
    "area_c2 = math.pow(radius_c2,2) * sp.pi\n",
    "ang_freq = freq * 2 * sp.pi\n",
    "l_third = 1/math.pow(distance_l,3)\n",
    "\n",
    "# Solve.\n",
    "\n",
    "emf_c2 = n1_turns * n2_turns * mu0_4pi * 2 * area_c1 * area_c2 * amps * ang_freq * l_third\n",
    "\n",
    "print(\"The maximum voltage of the second coil voltage =\", emf_c2,\"V\")\n"
   ]
  },
  {
   "cell_type": "markdown",
   "metadata": {},
   "source": [
    "### <center> Problem 22.20\n",
    "    \n",
    "![](22.20.PNG \"Homework Problem 22.20\")\n",
    "![](22.20P1.PNG \"22.20 Part 1\")\n",
    "![](22.20P2.PNG \"22.20 Part 2\")\n",
    "    \n",
    "#### <center> Important terms and variables\n",
    "    \n",
    "Use the space below to write down any important terms and variables pertinant to this problem.\n",
    "<br><br><br><br><br><br><br><br><br>\n",
    "    \n",
    "#### <center> Equation(s)\n",
    "    \n",
    "Based on the context of the question and the variables identified, write down any applicable equations that can be used to solve this problem.\n",
    "<br><br><br><br><br><br><br><br><br>\n",
    "\n",
    "#### <center> Solve on Paper\n",
    "\n",
    "Use the following space to attempt the problem by hand without the use of computers. Test your work in the sections below.\n",
    "<br><br><br><br><br><br><br><br><br>\n",
    "    \n",
    "#### <center> Solve using Excel\n",
    "     \n",
    "Click the following link to open the Excel spreadsheet. Refer to the earlier video and spreadsheet for further help. \n",
    "\n",
    "<link> \n",
    "    \n",
    "#### <center> Solve using Python\n",
    "    \n",
    "In the code cell below, fill in the empty areas. Once completed, run the cell to see if you get the right answer!\n"
   ]
  },
  {
   "cell_type": "code",
   "execution_count": 63,
   "metadata": {},
   "outputs": [
    {
     "ename": "SyntaxError",
     "evalue": "invalid syntax (<ipython-input-63-77493062970f>, line 16)",
     "output_type": "error",
     "traceback": [
      "\u001b[1;36m  File \u001b[1;32m\"<ipython-input-63-77493062970f>\"\u001b[1;36m, line \u001b[1;32m16\u001b[0m\n\u001b[1;33m    dBdt = #insert formula here using variables above.\u001b[0m\n\u001b[1;37m                                                      ^\u001b[0m\n\u001b[1;31mSyntaxError\u001b[0m\u001b[1;31m:\u001b[0m invalid syntax\n"
     ]
    }
   ],
   "source": [
    "# Packages important for this problem. Feel free to add more, as needed.\n",
    "\n",
    "import scipy.constants as sp\n",
    "import math\n",
    "\n",
    "# List the known variables here.\n",
    "\n",
    "\n",
    "\n",
    "# Pre-Calculations\n",
    "\n",
    "\n",
    "\n",
    "# Solve Part 1\n",
    "\n",
    "dBdt = #insert formula here using variables above.\n",
    "\n",
    "# Solve Part 2\n",
    "\n",
    "vm_reading = #insert formula here using variables above.\n",
    "\n",
    "print(\"The answer to Part 1 is \", dBdt, \"T/s\")\n",
    "print(\"The answer to Part 2 is \", vm_reading, \"volts\")"
   ]
  },
  {
   "cell_type": "markdown",
   "metadata": {},
   "source": [
    "### <center> Further Resources\n",
    "    \n",
    "For more information on solving problems computationally using Excel and Python, check out the resources below.\n",
    "\n",
    "#### <center> Excel\n",
    "\n",
    "[Excel Math Functions](https://www.excelfunctions.net/excel-math-functions.html)\n",
    "\n",
    "[Excel for Windows Training](https://support.office.com/en-us/article/excel-for-windows-training-9bc05390-e94c-46af-a5b3-d7c22f6990bb)\n",
    "\n",
    "[Google Sheets training and help](https://support.google.com/a/users/answer/9282959?hl=en)\n",
    "\n",
    "#### <center> Python\n",
    "    \n",
    "[Python for Computational Science and Engineering](https://www.southampton.ac.uk/~fangohr/training/python/pdfs/Python-for-Computational-Science-and-Engineering.pdf)\n",
    "\n",
    "[scipy.constants](https://docs.scipy.org/doc/scipy/reference/constants.html)\n",
    "\n",
    "[Computational Physics with Python](http://www-personal.umich.edu/~mejn/computational-physics/)"
   ]
  },
  {
   "cell_type": "code",
   "execution_count": null,
   "metadata": {},
   "outputs": [],
   "source": []
  }
 ],
 "metadata": {
  "kernelspec": {
   "display_name": "Python 3",
   "language": "python",
   "name": "python3"
  },
  "language_info": {
   "codemirror_mode": {
    "name": "ipython",
    "version": 3
   },
   "file_extension": ".py",
   "mimetype": "text/x-python",
   "name": "python",
   "nbconvert_exporter": "python",
   "pygments_lexer": "ipython3",
   "version": "3.6.5"
  }
 },
 "nbformat": 4,
 "nbformat_minor": 2
}
